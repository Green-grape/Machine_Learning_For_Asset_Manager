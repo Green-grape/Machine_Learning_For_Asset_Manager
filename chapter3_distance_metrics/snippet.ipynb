{
 "cells": [
  {
   "cell_type": "markdown",
   "id": "2f0cd2b7",
   "metadata": {},
   "source": [
    "3.2 A Correlation-Based Metric\n",
    "\n",
    "size가 T인 random variable X, Y에 대하여 두 X, Y의 유클리디안 거리 $d[X, Y]=\\sqrt{\\sum_{t=1}^T(X_t-Y_t)^2}$ 이다.\n",
    "이때 z-score normalization된 데이터 $x=\\frac{X-\\bar{X}}{\\sigma(X)}, y=\\frac{Y-\\bar{Y}}{\\sigma(Y)}$ 에 대하여 거리는 다음과 같이 변환가능\n",
    "$d[x, y]=\\sqrt{\\sum_{t=1}^T x_t^2+\\sum_{t=1}^T y_t^2-2\\sum_{t=1}^T x_ty_t}=\\sqrt{2T(1-\\rho(x, y))}$ \n",
    "\n",
    "만약에 음의 계수를 가진 자산의 거리를 가깝게 하고 싶으면 $d_{|\\rho|}[X, Y]=\\sqrt{1-|\\rho[X, Y]|}$"
   ]
  },
  {
   "cell_type": "markdown",
   "id": "2bc6571a",
   "metadata": {},
   "source": [
    "3.3 Marginal and Joint Entropy"
   ]
  },
  {
   "cell_type": "markdown",
   "id": "df5b2f5f",
   "metadata": {},
   "source": [
    "Marginal Entroy\n",
    "$H[X]=-\\sum_{x \\in S_X} p[x]logp[x]$\n",
    "\n",
    "Joint Entropy\n",
    "$H[X, Y]=-\\sum_{x,y \\in S_X \\times S_Y} p[x, y]log[p[x,y]]$"
   ]
  },
  {
   "cell_type": "markdown",
   "id": "04b826a2",
   "metadata": {},
   "source": [
    "3.4 Conditional Entropy\n",
    "\n",
    "$H[X|Y]=H[X, Y]-H[Y]=-\\sum_{y\\in S_Y}p[y]\\sum_{x in S_X} p[x|Y=y]logp[x|Y=y]$\n",
    "\n",
    "Y라는 값이 주어졌을때 X의 불확실성(정보량)"
   ]
  },
  {
   "cell_type": "markdown",
   "id": "d00ff5f8",
   "metadata": {},
   "source": [
    "3.5 KL Divergence\n",
    "\n",
    "$D_{KL}[p || q]=\\sum_{x in S_x} p[x]log\\frac{p[x]}{q[x]}$\n",
    "\n",
    "$D_{KL}[p || q]!=D_{KL} [q || p]$ 이기 때문에 metric은 아니지만 variational inference에서 많이 사용된다."
   ]
  },
  {
   "cell_type": "markdown",
   "id": "f0648fc5",
   "metadata": {},
   "source": [
    "3.6 Cross-Entropy\n",
    "\n",
    "$H_c[p || q]=-\\sum_{x \\in S_x} p[x]logq[x]$\n",
    "\n",
    "실제 데이터의 distribution p에 대하여 잘못된 distribution q로 정보를 평가했을때의 불확실성"
   ]
  },
  {
   "cell_type": "markdown",
   "id": "252d1718",
   "metadata": {},
   "source": [
    "3.7 Mutual Information\n",
    "\n",
    "Y라는 value를 알았을때 X의 불확실성의 감소량(혹은 정보의 증가량)\n",
    "\n",
    "$I[X, Y]=H[X]-H[X|Y]=H[X]+H[Y]-H[X|Y]$\n",
    "\n",
    "$I[X, Z]\\not\\leq I[X, Y]+I[Y, Z]$이기 때문에 metirc은 아니지만 정보자체를 간단한 식으로 쪼개는 것이 가능한것이 장점이다.\n",
    "\n",
    "Example: $I[X, Y, Z]=I[X, Y]+I[(X, Y), Z]$"
   ]
  },
  {
   "attachments": {
    "image.png": {
     "image/png": "[encoded data removed]"
    }
   },
   "cell_type": "markdown",
   "id": "eb13997b",
   "metadata": {},
   "source": [
    "3.8 Variation of Information\n",
    "\n",
    "$VI[X, Y]=H[X|Y]+H[Y|X]=H[X]+H[Y]-2I[X,Y]=2H[X,Y]-H[X]-H[Y]=H[X, Y]-I[X, Y]$\n",
    "\n",
    "한 변수를 알고 있을때 다른 변수의 불확실성\n",
    "\n",
    "$\\bar{VI}[X, Y]=\\frac{VI[X, Y]}{H[X, Y]} (VI[X, Y]\\leq H[X, Y])$ (upper bound가 있는 VI). \n",
    "\n",
    "$\\bar{\\bar{VI}}[X, Y]=\\frac{max\\{H[X|Y], H[Y|X]\\}}{max\\{H[X], H[Y]\\}}$ (sharper altervative bounded metric)\n",
    "\n",
    "![image.png](attachment:image.png)\n",
    "\n"
   ]
  },
  {
   "cell_type": "markdown",
   "id": "af7226ed",
   "metadata": {},
   "source": [
    "3.9 Discretization\n",
    "\n",
    "$H[X]=-\\int_{-\\infty}^{\\infty} f_X[x]logf_X[x]dx \\approx -\\sum_{i=1}^{B_X} f_X[x_i]log[f_X[x_i]]\\Delta x (B_x:bins\\ of\\ equal\\ size\\ \\Delta x=\\frac{max\\{x\\}-min\\{x\\}}{B_x}, f_X[x_i]:the\\ frequency\\ of\\ observations\\ falling\\ within\\ the\\ ith\\ bin)$\n",
    "\n",
    "이때 $p[x_i] \\approx f_X[x_i]\\Delta X$ 이므로 $\\hat{p}[x_i]=\\frac{N_i}{N}$ 로 계산할 수 있고 이를 정리하면\n",
    "\n",
    "$\\hat{H[X]}=-\\sum_{i=1}^{B_X} \\frac{N_i}{N}log[\\frac{N_i}{N}]+log[\\Delta x]$\n",
    "\n",
    "$\\hat{H[X, Y]}=-\\sum_{i=1}^{B_X}\\sum_{j=1}^{B_Y} \\frac{N_{i,j}}{N}log[\\frac{N_{i, j}}{N}]+log[\\Delta x\\Delta y]$\n",
    "\n",
    "optimal bins? -> 책 참고"
   ]
  },
  {
   "cell_type": "markdown",
   "id": "477c68c8",
   "metadata": {},
   "source": [
    "3.10 Distance between Two Partitions\n",
    "\n",
    "$P={D_k}_{k=1, .... K}, ||D_k||>0 , D_k \\cap D_l=\\empty (k \\neq l), \\cup_{k=1}^K D_k=D$ 에 대하여\n",
    "\n",
    "$p[k]=\\frac{||D_k||}{||D||}$ $D_K$ 에 속한 원소를 뽑을 확률\n",
    "\n",
    "Partition Marginal Entropy\n",
    "\n",
    "$H[P]=\\sum_{k=1}^K p[k]log[p[k]]$\n",
    "\n",
    "Partition Joint Entropy\n",
    "\n",
    "$p[k, k']=\\frac{||D_k \\cap D'_k||}{||D||}$\n",
    "\n",
    "$H[P,P']=-\\sum_{k=1}^K \\sum_{k'=1}^{K'} p[k, k']log[p[k, k']]$"
   ]
  },
  {
   "cell_type": "markdown",
   "id": "62fa6c8d",
   "metadata": {},
   "source": [
    "3.11 Experimental Results\n",
    "\n",
    "Mutual Information between standardized Gaussian variables X and Y\n",
    "$I[X, Y]=-\\frac{1}{2}log[1-\\rho(X, Y)^2]$"
   ]
  },
  {
   "cell_type": "markdown",
   "id": "03dc7640",
   "metadata": {},
   "source": []
  }
 ],
 "metadata": {
  "language_info": {
   "name": "python"
  }
 },
 "nbformat": 4,
 "nbformat_minor": 5
}
