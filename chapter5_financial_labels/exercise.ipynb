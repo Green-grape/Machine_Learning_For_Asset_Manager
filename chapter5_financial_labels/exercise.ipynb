{
 "cells": [
  {
   "cell_type": "markdown",
   "id": "f0d2abf4",
   "metadata": {},
   "source": [
    "1. Given a time series of E-mini S&P 500 futures, compute labels on one-\n",
    "minute time bars using the fixed-horizon method, where τ is set at two\n",
    "standard deviations of one-minute returns.\n",
    "\n",
    "    1. Compute the overall distribution of the labels.\n",
    "    2. Compute the distribution of labels across all days, for each hour of the \n",
    "    trading session.\n",
    "    3. How different are the distributions in (b) relative to the distribution in (a)? Why ?"
   ]
  },
  {
   "cell_type": "markdown",
   "id": "ac4c61bc",
   "metadata": {},
   "source": [
    "2. Repeat Exercise 1, where this time you label standardized returns \n",
    "(instead of raw returns), where the standardization is based on mean and variance\n",
    "estimates from a lookback of one hour. Do you reach a different conclusion?"
   ]
  },
  {
   "cell_type": "markdown",
   "id": "cae477be",
   "metadata": {},
   "source": [
    "3. Repeat Exercise 1, where this time you apply the triple-barrier method on\n",
    "volume bars. The maximum holding period is the average number of bars per\n",
    "day, and the horizontal barriers are set at two standard deviations of bar\n",
    "returns. How do results compare to the solutions from Exercises 1 and 2?"
   ]
  }
 ],
 "metadata": {
  "language_info": {
   "name": "python"
  }
 },
 "nbformat": 4,
 "nbformat_minor": 5
}
